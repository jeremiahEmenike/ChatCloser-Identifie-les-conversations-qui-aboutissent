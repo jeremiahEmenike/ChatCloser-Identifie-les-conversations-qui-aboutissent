{
 "cells": [
  {
   "cell_type": "markdown",
   "metadata": {},
   "source": [
    "# 1) Charger et consolider les données dans un DataFrame"
   ]
  },
  {
   "cell_type": "code",
   "execution_count": 1,
   "metadata": {},
   "outputs": [
    {
     "name": "stdout",
     "output_type": "stream",
     "text": [
      "            filename     label  \\\n",
      "0     message_1.json  negative   \n",
      "1    message_10.json  negative   \n",
      "2   message_100.json  negative   \n",
      "3  message_1000.json  negative   \n",
      "4  message_1001.json  positive   \n",
      "\n",
      "                                                text  nb_messages  \n",
      "0  Mais on peut aussi vous livrer Legbassito carr...            8  \n",
      "1  2000 c'est Ã  partir de 3 C'est pas suffisant ...           10  \n",
      "2  Amor Lonlon vous a envoyÃ© un message au sujet...            5  \n",
      "3  Bonjour c'est disponible Bonjour, cet article ...            5  \n",
      "4  Vous arrivez?? OK pas de problÃ¨me Je donne 7 ...           19  \n"
     ]
    }
   ],
   "source": [
    "import os\n",
    "import json\n",
    "import pandas as pd\n",
    "import re\n",
    "\n",
    "def load_chats(directory_path):\n",
    "    rows = []\n",
    "    for filename in os.listdir(directory_path):\n",
    "        if filename.endswith(\".json\"):\n",
    "            file_path = os.path.join(directory_path, filename)\n",
    "            with open(file_path, \"r\", encoding=\"utf-8\") as f:\n",
    "                data = json.load(f)\n",
    "                label = data.get(\"label\", \"unknown\")\n",
    "                messages = data.get(\"messages\", [])\n",
    "                \n",
    "                # Concaténer tout le contenu des messages\n",
    "                all_content = \" \".join(msg.get(\"content\", \"\") for msg in messages)\n",
    "                # Nombre de messages dans le chat\n",
    "                nb_messages = len(messages)\n",
    "\n",
    "                rows.append({\n",
    "                    \"filename\": filename,\n",
    "                    \"label\": label,\n",
    "                    \"text\": all_content,\n",
    "                    \"nb_messages\": nb_messages\n",
    "                })\n",
    "    return pd.DataFrame(rows)\n",
    "\n",
    "# Exemple d'utilisation\n",
    "directory_path = \"./data/chats\"  # À adapter\n",
    "df = load_chats(directory_path)\n",
    "print(df.head())\n"
   ]
  },
  {
   "cell_type": "markdown",
   "metadata": {},
   "source": [
    "# 2) Statistiques de base"
   ]
  },
  {
   "cell_type": "markdown",
   "metadata": {},
   "source": [
    "# a) Distribution des labels\n",
    "\n",
    "On veut savoir si on a autant de chats « positive » que « negative », ou si c’est déséquilibré"
   ]
  },
  {
   "cell_type": "code",
   "execution_count": 3,
   "metadata": {},
   "outputs": [
    {
     "name": "stdout",
     "output_type": "stream",
     "text": [
      "label\n",
      "negative    1216\n",
      "positive     238\n",
      "Name: count, dtype: int64\n"
     ]
    },
    {
     "data": {
      "image/png": "[encoded data removed]",
      "text/plain": [
       "<Figure size 640x480 with 1 Axes>"
      ]
     },
     "metadata": {},
     "output_type": "display_data"
    }
   ],
   "source": [
    "import matplotlib.pyplot as plt\n",
    "\n",
    "label_counts = df['label'].value_counts()\n",
    "print(label_counts)\n",
    "\n",
    "plt.figure()\n",
    "label_counts.plot(kind='bar')\n",
    "plt.title(\"Distribution des labels\")\n",
    "plt.xlabel(\"Label\")\n",
    "plt.ylabel(\"Nombre de chats\")\n",
    "plt.show()\n"
   ]
  },
  {
   "cell_type": "markdown",
   "metadata": {},
   "source": [
    "Interprétation : Si tu vois une majorité de negative, ça veut dire qu’il y a un déséquilibre.\n",
    "\n",
    "Conséquence : Les modèles de classification pourront être biaisés vers la classe majoritaire."
   ]
  },
  {
   "cell_type": "markdown",
   "metadata": {},
   "source": [
    "# b) Nombre de messages par conversation"
   ]
  },
  {
   "cell_type": "code",
   "execution_count": 4,
   "metadata": {},
   "outputs": [
    {
     "data": {
      "text/plain": [
       "count    1454.000000\n",
       "mean        9.631362\n",
       "std         6.180493\n",
       "min         0.000000\n",
       "25%         6.000000\n",
       "50%         8.000000\n",
       "75%        11.000000\n",
       "max        55.000000\n",
       "Name: nb_messages, dtype: float64"
      ]
     },
     "execution_count": 4,
     "metadata": {},
     "output_type": "execute_result"
    }
   ],
   "source": [
    "df['nb_messages'].describe()\n"
   ]
  }
 ],
 "metadata": {
  "kernelspec": {
   "display_name": "myenv",
   "language": "python",
   "name": "python3"
  },
  "language_info": {
   "codemirror_mode": {
    "name": "ipython",
    "version": 3
   },
   "file_extension": ".py",
   "mimetype": "text/x-python",
   "name": "python",
   "nbconvert_exporter": "python",
   "pygments_lexer": "ipython3",
   "version": "3.12.7"
  }
 },
 "nbformat": 4,
 "nbformat_minor": 2
}
